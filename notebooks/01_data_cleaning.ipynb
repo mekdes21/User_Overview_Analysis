{
 "cells": [
  {
   "cell_type": "code",
   "execution_count": 4,
   "metadata": {},
   "outputs": [],
   "source": [
    "import pandas as pd\n",
    "import sys\n",
    "import os\n",
    "# Add the src directory to the system path for importing modules\n",
    "sys.path.append(os.path.abspath('C:/Users/Hp/User_Overview_Analysis/scripts'))\n",
    "from clean_data import clean_data\n",
    "from extract_data import connect_to_db"
   ]
  },
  {
   "cell_type": "code",
   "execution_count": 5,
   "metadata": {},
   "outputs": [
    {
     "data": {
      "text/html": [
       "<div>\n",
       "<style scoped>\n",
       "    .dataframe tbody tr th:only-of-type {\n",
       "        vertical-align: middle;\n",
       "    }\n",
       "\n",
       "    .dataframe tbody tr th {\n",
       "        vertical-align: top;\n",
       "    }\n",
       "\n",
       "    .dataframe thead th {\n",
       "        text-align: right;\n",
       "    }\n",
       "</style>\n",
       "<table border=\"1\" class=\"dataframe\">\n",
       "  <thead>\n",
       "    <tr style=\"text-align: right;\">\n",
       "      <th></th>\n",
       "      <th>user_id</th>\n",
       "      <th>application</th>\n",
       "      <th>session_duration</th>\n",
       "      <th>download_data</th>\n",
       "      <th>upload_data</th>\n",
       "    </tr>\n",
       "  </thead>\n",
       "  <tbody>\n",
       "    <tr>\n",
       "      <th>0</th>\n",
       "      <td>3.366496e+10</td>\n",
       "      <td>Samsung</td>\n",
       "      <td>1823652.0</td>\n",
       "      <td>308879636.0</td>\n",
       "      <td>36749741.0</td>\n",
       "    </tr>\n",
       "    <tr>\n",
       "      <th>1</th>\n",
       "      <td>3.368185e+10</td>\n",
       "      <td>Samsung</td>\n",
       "      <td>1365104.0</td>\n",
       "      <td>653384965.0</td>\n",
       "      <td>53800391.0</td>\n",
       "    </tr>\n",
       "    <tr>\n",
       "      <th>2</th>\n",
       "      <td>3.376063e+10</td>\n",
       "      <td>Samsung</td>\n",
       "      <td>1361762.0</td>\n",
       "      <td>279807335.0</td>\n",
       "      <td>27883638.0</td>\n",
       "    </tr>\n",
       "    <tr>\n",
       "      <th>3</th>\n",
       "      <td>3.375034e+10</td>\n",
       "      <td>undefined</td>\n",
       "      <td>1321509.0</td>\n",
       "      <td>846028530.0</td>\n",
       "      <td>43324218.0</td>\n",
       "    </tr>\n",
       "    <tr>\n",
       "      <th>4</th>\n",
       "      <td>3.369980e+10</td>\n",
       "      <td>Samsung</td>\n",
       "      <td>1089009.0</td>\n",
       "      <td>569138589.0</td>\n",
       "      <td>38542814.0</td>\n",
       "    </tr>\n",
       "  </tbody>\n",
       "</table>\n",
       "</div>"
      ],
      "text/plain": [
       "        user_id application  session_duration  download_data  upload_data\n",
       "0  3.366496e+10     Samsung         1823652.0    308879636.0   36749741.0\n",
       "1  3.368185e+10     Samsung         1365104.0    653384965.0   53800391.0\n",
       "2  3.376063e+10     Samsung         1361762.0    279807335.0   27883638.0\n",
       "3  3.375034e+10   undefined         1321509.0    846028530.0   43324218.0\n",
       "4  3.369980e+10     Samsung         1089009.0    569138589.0   38542814.0"
      ]
     },
     "execution_count": 5,
     "metadata": {},
     "output_type": "execute_result"
    }
   ],
   "source": [
    "# Load and clean data\n",
    "df = connect_to_db()\n",
    "cleaned_df = clean_data(df)\n",
    "\n",
    "# Display cleaned data\n",
    "cleaned_df.head()"
   ]
  }
 ],
 "metadata": {
  "kernelspec": {
   "display_name": "venv",
   "language": "python",
   "name": "python3"
  },
  "language_info": {
   "codemirror_mode": {
    "name": "ipython",
    "version": 3
   },
   "file_extension": ".py",
   "mimetype": "text/x-python",
   "name": "python",
   "nbconvert_exporter": "python",
   "pygments_lexer": "ipython3",
   "version": "3.12.8"
  }
 },
 "nbformat": 4,
 "nbformat_minor": 2
}
